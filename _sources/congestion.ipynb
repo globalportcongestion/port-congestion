{
 "cells": [
  {
   "cell_type": "markdown",
   "metadata": {},
   "source": [
    "# Congestion of Ports\n",
    "\n",
    "We define two congestion indicators: \n",
    "\n",
    "(1) Average Congestion Time (ACT), which is the average waiting time of a ship at the anchorage before it berths at the terminal, \n",
    "\n",
    "$$\n",
    "\\text{ACT} = \\frac{\\text{Total congestion time of this month}}{\\text{The total number of ships visiting this port during this month}}\n",
    "$$\n",
    "\n",
    "(2) Average Congestion Rate (ACR), which is the ratio of ships that moor at anchorage before berthing at the terminal over the total number of ship visits at a port,\n",
    "\n",
    "$$\n",
    "\\text{ACR} = \\frac{\\text{The total number of ships suffering from congestion in this port during this month}}{\\text{The total number of ships visiting this port during this month}}\n",
    "$$"
   ]
  },
  {
   "cell_type": "markdown",
   "metadata": {},
   "source": [
    "## IMA-DBSCAN\n",
    "\n",
    "In the study of {cite:t}`baiDataDrivenIterativeMultiAttribute2023a`, the authors proposed an berth detection algorithm, which is called an iterative, multi-attribute DBSCAN (IMA-DBSCAN). The algorithm is applied to measure congestion at 20 major container ports in the world. The related data can be downloaded by clicking the following links:\n",
    "\n",
    "- [ACT of top 20 container ports in 2020](./data/ACT.xlsx)\n",
    "- [ACR of top 20 container ports in 2020](./data/ACR.xlsx)"
   ]
  },
  {
   "cell_type": "markdown",
   "metadata": {},
   "source": [
    "```{bibliography}\n",
    ":filter: docname in docnames\n",
    "```"
   ]
  }
 ],
 "metadata": {
  "language_info": {
   "name": "python"
  }
 },
 "nbformat": 4,
 "nbformat_minor": 2
}
