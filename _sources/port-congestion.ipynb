{
 "cells": [
  {
   "cell_type": "markdown",
   "metadata": {},
   "source": [
    "# Port Congestion\n",
    "\n",
    "This website is used to present the latest progress of our group's research on port congestion and to share our findings and related data. If you are inspired by our research, we would be happy to have you cite our articles."
   ]
  },
  {
   "cell_type": "markdown",
   "metadata": {},
   "source": [
    "## IMA-DBSCAN\n",
    "\n",
    "In the study of {cite:t}`baiDataDrivenIterativeMultiAttribute2023a` proposed an berth detection algorithm. The algorithm is applied to measure congestion at 20 major container ports in the world. The related data can be downloaded by clicking the following links:\n",
    "\n",
    "- [ACR of top 20 container ports in 2020](./data/ACR.xlsx)\n",
    "- [ACT of top 20 container ports in 2020](./data/ACT.xlsx)"
   ]
  },
  {
   "cell_type": "markdown",
   "metadata": {},
   "source": [
    "```{bibliography}\n",
    ":filter: docname in docnames\n",
    "```"
   ]
  }
 ],
 "metadata": {
  "language_info": {
   "name": "python"
  }
 },
 "nbformat": 4,
 "nbformat_minor": 2
}
